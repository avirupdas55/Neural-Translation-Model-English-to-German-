{
 "cells": [
  {
   "cell_type": "markdown",
   "metadata": {},
   "source": [
    "# Importing libraries"
   ]
  },
  {
   "cell_type": "code",
   "execution_count": 1,
   "metadata": {
    "id": "2VyTvxPN1iZn"
   },
   "outputs": [],
   "source": [
    "import tensorflow as tf\n",
    "import tensorflow_hub as hub\n",
    "import unicodedata\n",
    "import re\n",
    "from IPython.display import Image\n",
    "import numpy as np\n",
    "import time\n",
    "import datetime\n",
    "\n",
    "from tensorflow.keras.preprocessing.text import Tokenizer\n",
    "from tensorflow.keras.preprocessing.sequence import pad_sequences\n",
    "from tensorflow.keras.models import Model\n",
    "from tensorflow.keras.layers import Input, Layer, concatenate, Masking, Dense, Embedding, LSTM\n",
    "\n",
    "seed=42"
   ]
  },
  {
   "cell_type": "markdown",
   "metadata": {
    "id": "pi9Dq6vv3FVO"
   },
   "source": [
    "# Importing the data"
   ]
  },
  {
   "cell_type": "code",
   "execution_count": 2,
   "metadata": {
    "colab": {
     "base_uri": "https://localhost:8080/"
    },
    "id": "Nw99tEEQ3bKL",
    "outputId": "84d3e22f-3fde-4f84-f287-cd10078c40ef"
   },
   "outputs": [
    {
     "name": "stdout",
     "output_type": "stream",
     "text": [
      "Drive already mounted at /content/gdrive; to attempt to forcibly remount, call drive.mount(\"/content/gdrive\", force_remount=True).\n"
     ]
    }
   ],
   "source": [
    "# Run this cell to connect to your Drive folder\n",
    "\n",
    "from google.colab import drive\n",
    "drive.mount('/content/gdrive')"
   ]
  },
  {
   "cell_type": "code",
   "execution_count": 3,
   "metadata": {
    "id": "o8PetPpw1iZu"
   },
   "outputs": [],
   "source": [
    "# Run this cell to load the dataset\n",
    "\n",
    "path='gdrive/MyDrive/Data/'\n",
    "NUM_EXAMPLES = 20000\n",
    "data_examples = []\n",
    "with open(path+'deu.txt', 'r', encoding='utf8') as f:\n",
    "    for line in f.readlines():\n",
    "        if len(data_examples) < NUM_EXAMPLES:\n",
    "            data_examples.append(line)\n",
    "        else:\n",
    "            break"
   ]
  },
  {
   "cell_type": "code",
   "execution_count": 4,
   "metadata": {
    "id": "JumLjJ631iZy"
   },
   "outputs": [],
   "source": [
    "# These functions preprocess English and German sentences\n",
    "\n",
    "def unicode_to_ascii(s):\n",
    "    return ''.join(c for c in unicodedata.normalize('NFD', s) if unicodedata.category(c) != 'Mn')\n",
    "\n",
    "def preprocess_sentence(sentence):\n",
    "    sentence = sentence.lower().strip()\n",
    "    sentence = re.sub(r\"ü\", 'ue', sentence)\n",
    "    sentence = re.sub(r\"ä\", 'ae', sentence)\n",
    "    sentence = re.sub(r\"ö\", 'oe', sentence)\n",
    "    sentence = re.sub(r'ß', 'ss', sentence)\n",
    "    \n",
    "    sentence = unicode_to_ascii(sentence)\n",
    "    sentence = re.sub(r\"([?.!,])\", r\" \\1 \", sentence)\n",
    "    sentence = re.sub(r\"[^a-z?.!,']+\", \" \", sentence)\n",
    "    sentence = re.sub(r'[\" \"]+', \" \", sentence)\n",
    "    \n",
    "    return sentence.strip()"
   ]
  },
  {
   "cell_type": "markdown",
   "metadata": {
    "id": "z70nu6_01iZ3"
   },
   "source": [
    "# Text Processing"
   ]
  },
  {
   "cell_type": "code",
   "execution_count": 6,
   "metadata": {
    "id": "9G20C4bk1iZ4",
    "scrolled": true
   },
   "outputs": [],
   "source": [
    "english_list=[]\n",
    "german_list=[]\n",
    "\n",
    "for i in data_examples:\n",
    "  english, german = i.split('\\t')[:2]\n",
    "\n",
    "  english = preprocess_sentence(english)\n",
    "  german = preprocess_sentence(german)\n",
    "\n",
    "  english_list.append(english)\n",
    "  german_list.append('<start> ' + german + ' <end>')\n",
    "\n",
    "tokenizer = Tokenizer(filters='')\n",
    "tokenizer.fit_on_texts(german_list)\n",
    "german_token= tokenizer.texts_to_sequences(german_list)"
   ]
  },
  {
   "cell_type": "code",
   "execution_count": 7,
   "metadata": {
    "colab": {
     "base_uri": "https://localhost:8080/"
    },
    "id": "Sxwl-1rB1iZ8",
    "outputId": "cb830568-4df1-4a25-b4d7-86629ad710d0"
   },
   "outputs": [
    {
     "name": "stdout",
     "output_type": "stream",
     "text": [
      "English: \t tom chose wisely .\n",
      "German: \t <start> tom waehlte gut . <end>\n",
      "German Tokens:\t [1, 5, 1796, 49, 3, 2]\n",
      "------------------------------------------------------------\n",
      "English: \t tom is resilient .\n",
      "German: \t <start> tom ist belastbar . <end>\n",
      "German Tokens:\t [1, 5, 6, 5248, 3, 2]\n",
      "------------------------------------------------------------\n",
      "English: \t tom lit a match .\n",
      "German: \t <start> tom zuendete ein streichholz an . <end>\n",
      "German Tokens:\t [1, 5, 1733, 19, 4583, 36, 3, 2]\n",
      "------------------------------------------------------------\n",
      "English: \t catch the ball .\n",
      "German: \t <start> fangt den ball . <end>\n",
      "German Tokens:\t [1, 1781, 53, 537, 3, 2]\n",
      "------------------------------------------------------------\n",
      "English: \t he fixed the net .\n",
      "German: \t <start> er reparierte das netz . <end>\n",
      "German Tokens:\t [1, 14, 4768, 11, 2369, 3, 2]\n",
      "------------------------------------------------------------\n"
     ]
    }
   ],
   "source": [
    "for idx in np.random.choice(range(len(english_list)),replace=False,size=5):\n",
    "  print('English: \\t', english_list[idx])\n",
    "  print('German: \\t', german_list[idx])\n",
    "  print('German Tokens:\\t', german_token[idx])\n",
    "  print('-'*60)"
   ]
  },
  {
   "cell_type": "code",
   "execution_count": 8,
   "metadata": {
    "colab": {
     "base_uri": "https://localhost:8080/"
    },
    "id": "WnIdqZFk1iaA",
    "outputId": "226c093f-8f08-4a5a-ca3b-a01cdf462651"
   },
   "outputs": [
    {
     "name": "stdout",
     "output_type": "stream",
     "text": [
      "Shape Of Padded Sequence=  (20000, 14)\n",
      "Padded Sequence:\n",
      " [[   1  405    9 ...    0    0    0]\n",
      " [   1 3155  663 ...    0    0    0]\n",
      " [   1  975    9 ...    0    0    0]\n",
      " ...\n",
      " [   1    4   15 ...    0    0    0]\n",
      " [   1    4   18 ...    0    0    0]\n",
      " [   1    4   18 ...    0    0    0]]\n"
     ]
    }
   ],
   "source": [
    "padded_german_token= np.array(pad_sequences(german_token, padding='post'))\n",
    "print('Shape Of Padded Sequence= ', padded_german_token.shape)\n",
    "print('Padded Sequence:\\n', padded_german_token)"
   ]
  },
  {
   "cell_type": "markdown",
   "metadata": {
    "id": "foL7Ihs21iaP"
   },
   "source": [
    "# Preparing the Data"
   ]
  },
  {
   "cell_type": "markdown",
   "metadata": {
    "id": "-9rCEE4z1iaQ",
    "tags": []
   },
   "source": [
    "### Load The Embedding Layer"
   ]
  },
  {
   "cell_type": "code",
   "execution_count": 9,
   "metadata": {
    "id": "ywZgobCh1iaR"
   },
   "outputs": [],
   "source": [
    "# Load embedding module from Tensorflow Hub\n",
    "\n",
    "embedding_layer = hub.KerasLayer(\"https://tfhub.dev/google/tf2-preview/nnlm-en-dim128/1\", \n",
    "                                 output_shape=[128], input_shape=[], dtype=tf.string)"
   ]
  },
  {
   "cell_type": "code",
   "execution_count": 10,
   "metadata": {
    "colab": {
     "base_uri": "https://localhost:8080/"
    },
    "id": "TiY8QEDp1iaV",
    "outputId": "3641b1e2-47f4-464d-8e3d-f67ad7fa02a5"
   },
   "outputs": [
    {
     "data": {
      "text/plain": [
       "TensorShape([7, 128])"
      ]
     },
     "execution_count": 10,
     "metadata": {},
     "output_type": "execute_result"
    }
   ],
   "source": [
    "# Test the layer\n",
    "\n",
    "embedding_layer(tf.constant([\"these\", \"aren't\", \"the\", \"droids\", \"you're\", \"looking\", \"for\"])).shape"
   ]
  },
  {
   "cell_type": "markdown",
   "metadata": {
    "id": "KjuzXc-z1iaY"
   },
   "source": [
    "### Preparing train and validation sets"
   ]
  },
  {
   "cell_type": "code",
   "execution_count": 11,
   "metadata": {
    "id": "Q-BUJOl_1iaZ"
   },
   "outputs": [],
   "source": [
    "from sklearn.model_selection import train_test_split\n",
    "\n",
    "x_train, x_test, y_train, y_test= train_test_split(english_list, padded_german_token, test_size=0.2, random_state=seed)\n",
    "\n",
    "train_set= tf.data.Dataset.from_tensor_slices((x_train,y_train))\n",
    "test_set= tf.data.Dataset.from_tensor_slices((x_test, y_test))"
   ]
  },
  {
   "cell_type": "code",
   "execution_count": 12,
   "metadata": {
    "id": "4w6rM8Bl1iad"
   },
   "outputs": [],
   "source": [
    "max_len= 13\n",
    "def data_preprocess(dataset, batch_size):\n",
    "\n",
    "  def split_set(x,y):\n",
    "    return tf.strings.split(x),y\n",
    "\n",
    "  def form_embedding(x,y):\n",
    "    return embedding_layer(x),y\n",
    "\n",
    "  def filtering(x,y):\n",
    "    return tf.less_equal(len(x),max_len)\n",
    "\n",
    "  def padding_seq(x,y):\n",
    "    paddings= ((max_len-len(x),0),(0,0))\n",
    "    return tf.pad(x,paddings=paddings),y\n",
    "\n",
    "  return dataset.map(split_set).map(form_embedding).filter(filtering).map(padding_seq).batch(batch_size, drop_remainder=True)"
   ]
  },
  {
   "cell_type": "code",
   "execution_count": 13,
   "metadata": {
    "colab": {
     "base_uri": "https://localhost:8080/"
    },
    "id": "D7bn3mRs1iaj",
    "outputId": "93bfa1dd-81b8-4dab-f232-e71b8cc0db35"
   },
   "outputs": [
    {
     "name": "stdout",
     "output_type": "stream",
     "text": [
      "Element Specs\n",
      "(TensorSpec(shape=(16, None, 128), dtype=tf.float32, name=None), TensorSpec(shape=(16, 14), dtype=tf.int32, name=None))\n",
      "(TensorSpec(shape=(16, None, 128), dtype=tf.float32, name=None), TensorSpec(shape=(16, 14), dtype=tf.int32, name=None))\n"
     ]
    }
   ],
   "source": [
    "train_set= data_preprocess(train_set,16)\n",
    "test_set= data_preprocess(test_set,16)\n",
    "\n",
    "print('Element Specs')\n",
    "print(train_set.element_spec)\n",
    "print(test_set.element_spec)"
   ]
  },
  {
   "cell_type": "code",
   "execution_count": 14,
   "metadata": {
    "colab": {
     "base_uri": "https://localhost:8080/"
    },
    "id": "q0Fdso381ian",
    "outputId": "631eea5a-d659-4ca9-8a82-35f70cdebc06"
   },
   "outputs": [
    {
     "name": "stdout",
     "output_type": "stream",
     "text": [
      "Shape of training set:  (16, 13, 128)\n",
      "\n",
      "German Data Example: tf.Tensor(\n",
      "[[   1    4   18   20  115  178    3    2    0    0    0    0    0    0]\n",
      " [   1    4   61  315    3    2    0    0    0    0    0    0    0    0]\n",
      " [   1    5    6  831    3    2    0    0    0    0    0    0    0    0]\n",
      " [   1   42  457    9    2    0    0    0    0    0    0    0    0    0]\n",
      " [   1   78 4750    3    2    0    0    0    0    0    0    0    0    0]\n",
      " [   1    5  414   20   75   36    3    2    0    0    0    0    0    0]\n",
      " [   1    6   47  312    5    7    2    0    0    0    0    0    0    0]\n",
      " [   1  120   21   76   90    9    2    0    0    0    0    0    0    0]\n",
      " [   1    4  766   11  113    3    2    0    0    0    0    0    0    0]\n",
      " [   1    8  308  129    3    2    0    0    0    0    0    0    0    0]\n",
      " [   1    4  580    3    2    0    0    0    0    0    0    0    0    0]\n",
      " [   1   64   22  100   45    3    2    0    0    0    0    0    0    0]\n",
      " [   1    5   16   19  955    3    2    0    0    0    0    0    0    0]\n",
      " [   1    5  136  186 5141    3    2    0    0    0    0    0    0    0]\n",
      " [   1    5  165  271   20   54    3    2    0    0    0    0    0    0]\n",
      " [   1   21    6   56  232    3    2    0    0    0    0    0    0    0]], shape=(16, 14), dtype=int32)\n"
     ]
    }
   ],
   "source": [
    "print('Shape of training set: ', next(iter(train_set.take(1)))[0].shape, end='\\n\\n')\n",
    "print('German Data Example:', next(iter(test_set.take(1)))[1])"
   ]
  },
  {
   "cell_type": "markdown",
   "metadata": {
    "id": "isIYhjq01iay"
   },
   "source": [
    "# Creating The Custom Layer"
   ]
  },
  {
   "cell_type": "code",
   "execution_count": 16,
   "metadata": {
    "id": "yg9hjZz11ia0"
   },
   "outputs": [],
   "source": [
    "class EndTokenLayer(Layer):\n",
    "\n",
    "  def __init__(self, **kwargs):\n",
    "    super(EndTokenLayer, self).__init__(**kwargs)\n",
    "\n",
    "  def build(self, input_shape):\n",
    "    self.end_embed= self.add_weight(shape=(1,1,input_shape[-1]), trainable=True, initializer='random_uniform')\n",
    "\n",
    "  def call(self, inputs):\n",
    "    tile_end_embed= tf.tile(self.end_embed, (tf.shape(inputs)[0],1,1))\n",
    "    return tf.concat([inputs, tile_end_embed], axis=1)\n"
   ]
  },
  {
   "cell_type": "code",
   "execution_count": 17,
   "metadata": {
    "colab": {
     "base_uri": "https://localhost:8080/"
    },
    "id": "4PwI32O11ia3",
    "outputId": "0a3af2c7-ba3a-470d-beda-5f98bfd30942"
   },
   "outputs": [
    {
     "name": "stdout",
     "output_type": "stream",
     "text": [
      "Before embedding:  (16, 13, 128)\n",
      "After embedding:  (16, 14, 128)\n"
     ]
    }
   ],
   "source": [
    "end_embed_l= EndTokenLayer()\n",
    "\n",
    "for i,j in train_set.take(1):\n",
    "  print('Before embedding: ',i.shape)\n",
    "  print('After embedding: ', end_embed_l(i).shape)"
   ]
  },
  {
   "cell_type": "markdown",
   "metadata": {
    "id": "OAd3i4_y1ia-"
   },
   "source": [
    "# Building The Encoder Network"
   ]
  },
  {
   "cell_type": "code",
   "execution_count": 18,
   "metadata": {
    "id": "6R2LqbfV1ia_"
   },
   "outputs": [],
   "source": [
    "def get_encoder_model(input_shape):\n",
    "\n",
    "  inputs= Input(input_shape)\n",
    "  x= EndTokenLayer()(inputs)\n",
    "  x= Masking()(x)\n",
    "  x, hidden, cell= LSTM(units=512, return_state=True)(x)\n",
    "\n",
    "  model= Model(inputs=inputs, outputs=[hidden, cell])\n",
    "  return model"
   ]
  },
  {
   "cell_type": "code",
   "execution_count": 19,
   "metadata": {
    "colab": {
     "base_uri": "https://localhost:8080/"
    },
    "id": "e5XW6NxL1ibC",
    "outputId": "4dbdf906-2474-4df7-b65e-7ae7075cc4b6"
   },
   "outputs": [
    {
     "name": "stdout",
     "output_type": "stream",
     "text": [
      "Example shape:\t (16, 13, 128)\n",
      "Shape of resulting tensor:\t [TensorShape([16, 512]), TensorShape([16, 512])]\n"
     ]
    }
   ],
   "source": [
    "encoder= get_encoder_model((max_len,128))\n",
    "\n",
    "x,y= next(iter(train_set.take(1)))\n",
    "print('Example shape:\\t', x.shape)\n",
    "print('Shape of resulting tensor:\\t', [i.shape for i in encoder(x)])"
   ]
  },
  {
   "cell_type": "code",
   "execution_count": 20,
   "metadata": {
    "colab": {
     "base_uri": "https://localhost:8080/"
    },
    "id": "jEk9ikVh1ibL",
    "outputId": "f40fdbcb-efa5-4196-aa47-0de911007f25"
   },
   "outputs": [
    {
     "name": "stdout",
     "output_type": "stream",
     "text": [
      "Model: \"model\"\n",
      "_________________________________________________________________\n",
      "Layer (type)                 Output Shape              Param #   \n",
      "=================================================================\n",
      "input_1 (InputLayer)         [(None, 13, 128)]         0         \n",
      "_________________________________________________________________\n",
      "end_token_layer_1 (EndTokenL (None, 14, 128)           128       \n",
      "_________________________________________________________________\n",
      "masking (Masking)            (None, 14, 128)           0         \n",
      "_________________________________________________________________\n",
      "lstm (LSTM)                  [(None, 512), (None, 512) 1312768   \n",
      "=================================================================\n",
      "Total params: 1,312,896\n",
      "Trainable params: 1,312,896\n",
      "Non-trainable params: 0\n",
      "_________________________________________________________________\n"
     ]
    }
   ],
   "source": [
    "encoder.summary()"
   ]
  },
  {
   "cell_type": "markdown",
   "metadata": {
    "id": "KvkzpCeZ1ibR"
   },
   "source": [
    "# Building The Decoder Network"
   ]
  },
  {
   "cell_type": "code",
   "execution_count": 22,
   "metadata": {
    "id": "l50qhnXD1ibT"
   },
   "outputs": [],
   "source": [
    "class Decoder(Model):\n",
    "\n",
    "  def __init__(self, german, **kwargs):\n",
    "    super(Decoder, self).__init__(**kwargs)\n",
    "    self.embed= Embedding(german, 128, mask_zero=True)\n",
    "    self.lstm= LSTM(512, return_state=True, return_sequences=True)\n",
    "    self.dense= Dense(german)\n",
    "\n",
    "  def call(self, inputs, hidden=None, cell=None):\n",
    "    x=self.embed(inputs)\n",
    "    if hidden is not None and cell is not None:\n",
    "      x, hidden_state, cell_state= self.lstm(inputs=x, initial_state=[hidden, cell])\n",
    "    else:\n",
    "      x, hidden_state, cell_state= self.lstm(inputs=x)\n",
    "    x=self.dense(x)\n",
    "\n",
    "    return (x,hidden_state,cell_state)"
   ]
  },
  {
   "cell_type": "code",
   "execution_count": 23,
   "metadata": {
    "colab": {
     "base_uri": "https://localhost:8080/"
    },
    "id": "vG5CRIXV1ibi",
    "outputId": "4cbde9c4-b641-43ef-e373-ba74acd286fc"
   },
   "outputs": [
    {
     "name": "stdout",
     "output_type": "stream",
     "text": [
      "Input shape:\t (16, 13, 128)\n",
      "Encoder shape:\t (16, 512) (16, 512)\n",
      "Decoder shape:\t (16, 14, 5744) (16, 512) (16, 512)\n"
     ]
    }
   ],
   "source": [
    "german_voc= len(tokenizer.word_index)+1\n",
    "decoder= Decoder(german_voc)\n",
    "\n",
    "for i,j in train_set.take(1):\n",
    "  print('Input shape:\\t', i.shape)\n",
    "  h,c= encoder(i)\n",
    "  print('Encoder shape:\\t', h.shape, c.shape)\n",
    "  out, h, c= decoder(j, h, c)\n",
    "  print('Decoder shape:\\t', out.shape, h.shape, c.shape)"
   ]
  },
  {
   "cell_type": "code",
   "execution_count": 24,
   "metadata": {
    "colab": {
     "base_uri": "https://localhost:8080/"
    },
    "id": "SvqqT_ET1ibl",
    "outputId": "90e9a6c7-9891-4993-d585-d9fa99b4d514"
   },
   "outputs": [
    {
     "name": "stdout",
     "output_type": "stream",
     "text": [
      "Model: \"decoder\"\n",
      "_________________________________________________________________\n",
      "Layer (type)                 Output Shape              Param #   \n",
      "=================================================================\n",
      "embedding (Embedding)        multiple                  735232    \n",
      "_________________________________________________________________\n",
      "lstm_1 (LSTM)                multiple                  1312768   \n",
      "_________________________________________________________________\n",
      "dense (Dense)                multiple                  2946672   \n",
      "=================================================================\n",
      "Total params: 4,994,672\n",
      "Trainable params: 4,994,672\n",
      "Non-trainable params: 0\n",
      "_________________________________________________________________\n"
     ]
    }
   ],
   "source": [
    "decoder.summary()"
   ]
  },
  {
   "cell_type": "markdown",
   "metadata": {
    "id": "pST9XGJ81ibo"
   },
   "source": [
    "# Making A Custom Training Loop"
   ]
  },
  {
   "cell_type": "code",
   "execution_count": 25,
   "metadata": {
    "id": "7hJHbWqs1ibr"
   },
   "outputs": [],
   "source": [
    "def decoder_process(dat):\n",
    "  return dat[:,:-1],dat[:,1:]"
   ]
  },
  {
   "cell_type": "code",
   "execution_count": 26,
   "metadata": {
    "id": "Vl5H06811ibx"
   },
   "outputs": [],
   "source": [
    "loss= tf.keras.losses.SparseCategoricalCrossentropy(from_logits=True)\n",
    "\n",
    "@tf.function\n",
    "def grad(eng_input, ger_input, ger_output):\n",
    "  global encoder, decoder\n",
    "  with tf.GradientTape() as tape:\n",
    "    hidden_state, cell_state= encoder(eng_input)\n",
    "    ger_pred, _, _ = decoder(ger_input, hidden_state, cell_state)\n",
    "    losses=loss(ger_output, ger_pred)\n",
    "    gradients= tape.gradient(losses, encoder.trainable_variables+decoder.trainable_variables)\n",
    "\n",
    "    return losses,gradients"
   ]
  },
  {
   "cell_type": "code",
   "execution_count": 29,
   "metadata": {
    "id": "T1az51PwMUPH"
   },
   "outputs": [],
   "source": [
    "optimizer= tf.keras.optimizers.Adam(learning_rate=0.001)\n",
    "\n",
    "def training_loop(train, test, epochs, optimizer, loss):\n",
    "\n",
    "  epoch_training_losses = []\n",
    "  epoch_test_losses = []\n",
    "\n",
    "  for epoch in range(epochs):\n",
    "    start = time.time()\n",
    "    train_losses = tf.keras.metrics.Mean()\n",
    "    val_losses = tf.keras.metrics.Mean()\n",
    "\n",
    "    for x, y in train:\n",
    "      y_in, y_out = decoder_process(y)\n",
    "      losses, grads = grad(x, y_in, y_out)\n",
    "      optimizer.apply_gradients(zip(grads, encoder.trainable_variables+decoder.trainable_variables))\n",
    "      train_losses(losses)\n",
    "    epoch_training_losses.append(train_losses.result())\n",
    "\n",
    "    for x, y in test:\n",
    "      y_in, y_out = decoder_process(y)\n",
    "      losses, _ = grad(x,y_in, y_out)\n",
    "      val_losses(losses)\n",
    "    epoch_test_losses.append(val_losses.result())\n",
    "\n",
    "    end = str(datetime.timedelta(seconds=time.time()-start))\n",
    "    print(f'EPOCH: {epoch+1:03d} TIME: {end} Training Loss: {train_losses.result():.2f}  Validation Loss: {val_losses.result():.2f}')\n",
    "  return epoch_training_losses, epoch_test_losses"
   ]
  },
  {
   "cell_type": "code",
   "execution_count": 30,
   "metadata": {
    "colab": {
     "base_uri": "https://localhost:8080/"
    },
    "id": "MVWOYJ3l1ib1",
    "outputId": "8060ee27-fcc2-42af-a5dc-aec05096214d"
   },
   "outputs": [
    {
     "name": "stdout",
     "output_type": "stream",
     "text": [
      "EPOCH: 001 TIME: 0:03:58.228143 Training Loss: 5.47  Validation Loss: 4.82\n",
      "EPOCH: 002 TIME: 0:03:02.996051 Training Loss: 4.30  Validation Loss: 3.95\n",
      "EPOCH: 003 TIME: 0:04:03.001590 Training Loss: 3.41  Validation Loss: 3.22\n",
      "EPOCH: 004 TIME: 0:03:07.858749 Training Loss: 2.58  Validation Loss: 2.55\n",
      "EPOCH: 005 TIME: 0:04:02.994716 Training Loss: 1.84  Validation Loss: 1.97\n",
      "EPOCH: 006 TIME: 0:04:02.990476 Training Loss: 1.21  Validation Loss: 1.52\n",
      "EPOCH: 007 TIME: 0:03:58.190040 Training Loss: 0.77  Validation Loss: 1.26\n",
      "EPOCH: 008 TIME: 0:03:58.272620 Training Loss: 0.51  Validation Loss: 1.13\n",
      "EPOCH: 009 TIME: 0:03:02.473329 Training Loss: 0.36  Validation Loss: 1.08\n",
      "EPOCH: 010 TIME: 0:03:57.987185 Training Loss: 0.26  Validation Loss: 1.07\n"
     ]
    }
   ],
   "source": [
    "epochs=10\n",
    "train_loss, test_loss = training_loop(train_set, test_set, epochs, optimizer, loss)"
   ]
  },
  {
   "cell_type": "code",
   "execution_count": 31,
   "metadata": {
    "colab": {
     "base_uri": "https://localhost:8080/",
     "height": 388
    },
    "id": "6VSmBdwT1ib4",
    "outputId": "0ce70986-b23b-4f0a-fc07-0aefda7e9598"
   },
   "outputs": [
    {
     "data": {
      "image/png": "[encoded data removed]",
      "text/plain": [
       "<Figure size 576x432 with 1 Axes>"
      ]
     },
     "metadata": {
      "needs_background": "light"
     },
     "output_type": "display_data"
    }
   ],
   "source": [
    "import matplotlib.pyplot as plt\n",
    "\n",
    "x = range(1, len(train_loss)+1)\n",
    "plt.figure(figsize=(8,6))\n",
    "plt.plot(x, train_loss, label='train')\n",
    "plt.plot(x, test_loss, label='val')\n",
    "plt.xlabel('Epoch')\n",
    "plt.ylabel('Loss')\n",
    "plt.legend()\n",
    "plt.show()"
   ]
  },
  {
   "cell_type": "markdown",
   "metadata": {
    "id": "xM2gvBM11ib-"
   },
   "source": [
    "# Using The Model For Translation"
   ]
  },
  {
   "cell_type": "code",
   "execution_count": 79,
   "metadata": {
    "colab": {
     "base_uri": "https://localhost:8080/"
    },
    "id": "0SmnNfk_HOGt",
    "outputId": "df9e35c0-c891-4dfd-aa82-719348391186"
   },
   "outputs": [
    {
     "name": "stdout",
     "output_type": "stream",
     "text": [
      "English:\t tom is secretive .\n",
      "German:\t\t <start> tom ist geheimnisvoll . <end>\n",
      "Predicted German:\t <start> tom ist aus die boden . <end>\n",
      "------------------------------------------------------------\n",
      "English:\t they agree .\n",
      "German:\t\t <start> sie stimmen zu . <end>\n",
      "Predicted German:\t <start> sie sich . <end>\n",
      "------------------------------------------------------------\n",
      "English:\t tom got cheated .\n",
      "German:\t\t <start> tom wurde betrogen . <end>\n",
      "Predicted German:\t <start> tom fallen . <end>\n",
      "------------------------------------------------------------\n",
      "English:\t tom lived alone .\n",
      "German:\t\t <start> tom lebte allein . <end>\n",
      "Predicted German:\t <start> tom allein . <end>\n",
      "------------------------------------------------------------\n",
      "English:\t i saw an airplane .\n",
      "German:\t\t <start> ich habe ein flugzeug gesehen . <end>\n",
      "Predicted German:\t <start> ich habe . <end>\n",
      "------------------------------------------------------------\n",
      "English:\t i like your style .\n",
      "German:\t\t <start> ich mag deinen stil . <end>\n",
      "Predicted German:\t <start> ich mag . <end>\n",
      "------------------------------------------------------------\n",
      "English:\t that's not bad .\n",
      "German:\t\t <start> das ist nicht schlimm . <end>\n",
      "Predicted German:\t <start> das nicht gut . <end>\n",
      "------------------------------------------------------------\n",
      "English:\t do you need money ?\n",
      "German:\t\t <start> brauchen sie geld ? <end>\n",
      "Predicted German:\t <start> wollt ihr ? <end>\n",
      "------------------------------------------------------------\n",
      "English:\t i keep a dog .\n",
      "German:\t\t <start> ich halte einen hund . <end>\n",
      "Predicted German:\t <start> ich bin . <end>\n",
      "------------------------------------------------------------\n",
      "English:\t you're thorough .\n",
      "German:\t\t <start> ihr seid gruendlich . <end>\n",
      "Predicted German:\t <start> du gruendlich . <end>\n",
      "------------------------------------------------------------\n"
     ]
    }
   ],
   "source": [
    "example= 10\n",
    "indices = np.random.randint(0, len(english_list) -1, example)\n",
    "eng_sample = np.array(english_list)[indices]\n",
    "ger_sample = np.array(german_list)[indices]\n",
    "\n",
    "ger_sample_tokens = tokenizer.texts_to_sequences(ger_sample)\n",
    "padded_ger_sample = np.array(pad_sequences(ger_sample_tokens,padding='post'))\n",
    "\n",
    "sample_dataset = tf.data.Dataset.from_tensor_slices((eng_sample, padded_ger_sample))\n",
    "sample_dataset = data_preprocess(sample_dataset,1)\n",
    "\n",
    "# get the length of longest padded german token sequence\n",
    "x, y = next(iter(test_set))\n",
    "max_trans_length = len(y)\n",
    "\n",
    "# translation\n",
    "sentence_counter = 0\n",
    "for x, y in sample_dataset:\n",
    "    h_state, c_state = encoder(x)\n",
    "    word_string = [1]\n",
    "    word_string[0] = 1\n",
    "    for i in range(max_trans_length -1):\n",
    "        input_string = tf.convert_to_tensor(np.array([word_string]), dtype = 'int32')\n",
    "        output, h_state, c_state = decoder(input_string, hidden = h_state, cell = c_state)\n",
    "        word_string.append (np.argmax(output[0][-1]))\n",
    "        if np.argmax(output[0][-1]) == 2:\n",
    "          break\n",
    "\n",
    "    print('English:\\t', eng_sample[sentence_counter])\n",
    "    print('German:\\t\\t', ger_sample[sentence_counter])\n",
    "    print('Predicted German:\\t', tokenizer.sequences_to_texts([word_string])[0])\n",
    "    print('-' * 60)\n",
    "    sentence_counter+=1\n"
   ]
  }
 ],
 "metadata": {
  "accelerator": "GPU",
  "colab": {
   "collapsed_sections": [],
   "name": "German Translation Model.ipynb",
   "provenance": []
  },
  "kernelspec": {
   "display_name": "Python 3.9 (tensorflow)",
   "language": "python",
   "name": "tf_m1"
  },
  "language_info": {
   "codemirror_mode": {
    "name": "ipython",
    "version": 3
   },
   "file_extension": ".py",
   "mimetype": "text/x-python",
   "name": "python",
   "nbconvert_exporter": "python",
   "pygments_lexer": "ipython3",
   "version": "3.9.6"
  }
 },
 "nbformat": 4,
 "nbformat_minor": 4
}
